{
 "cells": [
  {
   "cell_type": "markdown",
   "metadata": {},
   "source": [
    "### 机器学习部分\n",
    "\n",
    "1.针对相同的训练集，进行不同的机器学习模型测试并调整超参\n",
    "\n",
    "2.挑选较强或者是学习能力较好的学习器进行集成学习\n",
    "\n",
    "### 常用来测试的模型\n",
    "\n",
    "1.线性回归类模型\n",
    "\n",
    "    1.1 朴素线性模型\n",
    "    \n",
    "    1.2 基于L1的线性回归\n",
    "    \n",
    "    1.3 基于L2的线性回归\n",
    "    \n",
    "    1.4 ElasticNet\n",
    "    \n",
    "2.树回归-CART\n",
    "\n",
    "    2.1 CART\n",
    "    \n",
    "    2.2 RF\n",
    "    \n",
    "    2.3 AdaBoost\n",
    "    \n",
    "    2.4 GBDT/XGBoost\n",
    "    \n",
    "3.SVM类型-SVR\n",
    "\n",
    "4.神经网络类型-FC神经网络\n",
    "\n",
    "5.集成学习\n",
    "\n"
   ]
  },
  {
   "cell_type": "markdown",
   "metadata": {},
   "source": [
    "### 数据集的准备"
   ]
  },
  {
   "cell_type": "code",
   "execution_count": 1,
   "metadata": {},
   "outputs": [],
   "source": [
    "import pandas as pd \n",
    "\n",
    "import numpy as np\n",
    "\n",
    "from sklearn.model_selection import train_test_split"
   ]
  },
  {
   "cell_type": "code",
   "execution_count": 2,
   "metadata": {},
   "outputs": [],
   "source": [
    "train=pd.read_csv('./data/train_1.csv')\n",
    "y=train['SalePrice']\n",
    "train1=train.drop(['Id','SalePrice','Unnamed: 0'],axis=1)"
   ]
  },
  {
   "cell_type": "markdown",
   "metadata": {},
   "source": [
    "### 对于离散数据记性Label Encode---OneHot的Encode"
   ]
  },
  {
   "cell_type": "code",
   "execution_count": 3,
   "metadata": {},
   "outputs": [],
   "source": [
    "X=pd.get_dummies(train1).reset_index(drop=True)"
   ]
  },
  {
   "cell_type": "code",
   "execution_count": 4,
   "metadata": {},
   "outputs": [],
   "source": [
    "X_train,X_test,y_train,y_test=train_test_split(X,y,test_size=0.2,random_state=123)"
   ]
  },
  {
   "cell_type": "markdown",
   "metadata": {},
   "source": [
    "### 基础线性回归"
   ]
  },
  {
   "cell_type": "code",
   "execution_count": 5,
   "metadata": {},
   "outputs": [
    {
     "data": {
      "text/plain": [
       "0.1262780962215695"
      ]
     },
     "execution_count": 5,
     "metadata": {},
     "output_type": "execute_result"
    }
   ],
   "source": [
    "from sklearn.linear_model import LinearRegression\n",
    "from sklearn.metrics import mean_squared_error\n",
    "lm=LinearRegression()\n",
    "lm.fit(X_train,y_train)\n",
    "pred=lm.predict(X_test)\n",
    "np.sqrt(mean_squared_error(y_test,pred))\n",
    "np.sqrt(mean_squared_error(np.log(y_test),np.log(pred)))"
   ]
  },
  {
   "cell_type": "markdown",
   "metadata": {},
   "source": [
    "### 预处理 Preprocessing"
   ]
  },
  {
   "cell_type": "code",
   "execution_count": 6,
   "metadata": {},
   "outputs": [],
   "source": [
    "from sklearn.pipeline import make_pipeline"
   ]
  },
  {
   "cell_type": "code",
   "execution_count": 7,
   "metadata": {},
   "outputs": [],
   "source": [
    "from sklearn.preprocessing import RobustScaler"
   ]
  },
  {
   "cell_type": "code",
   "execution_count": 8,
   "metadata": {},
   "outputs": [],
   "source": [
    "lm_model=make_pipeline(RobustScaler(),LinearRegression())"
   ]
  },
  {
   "cell_type": "code",
   "execution_count": 9,
   "metadata": {},
   "outputs": [
    {
     "data": {
      "text/plain": [
       "Pipeline(memory=None,\n",
       "     steps=[('robustscaler', RobustScaler(copy=True, quantile_range=(25.0, 75.0), with_centering=True,\n",
       "       with_scaling=True)), ('linearregression', LinearRegression(copy_X=True, fit_intercept=True, n_jobs=None,\n",
       "         normalize=False))])"
      ]
     },
     "execution_count": 9,
     "metadata": {},
     "output_type": "execute_result"
    }
   ],
   "source": [
    "lm_model.fit(X_train,y_train)"
   ]
  },
  {
   "cell_type": "code",
   "execution_count": 10,
   "metadata": {},
   "outputs": [],
   "source": [
    "#y_test"
   ]
  },
  {
   "cell_type": "code",
   "execution_count": 11,
   "metadata": {},
   "outputs": [],
   "source": [
    "def benchmark(model):\n",
    "    pred=model.predict(X_test)\n",
    "    logrmse=np.sqrt(mean_squared_error(np.log(y_test),np.log(pred)))\n",
    "    return logrmse"
   ]
  },
  {
   "cell_type": "code",
   "execution_count": 12,
   "metadata": {},
   "outputs": [],
   "source": [
    "#benchmark(lm_model)"
   ]
  },
  {
   "cell_type": "markdown",
   "metadata": {},
   "source": [
    "### RidgeRegression"
   ]
  },
  {
   "cell_type": "code",
   "execution_count": 13,
   "metadata": {},
   "outputs": [],
   "source": [
    "from sklearn.linear_model import Ridge"
   ]
  },
  {
   "cell_type": "code",
   "execution_count": 14,
   "metadata": {},
   "outputs": [],
   "source": [
    "ridge_model=Ridge(alpha=0.1)"
   ]
  },
  {
   "cell_type": "code",
   "execution_count": 15,
   "metadata": {},
   "outputs": [
    {
     "data": {
      "text/plain": [
       "Ridge(alpha=0.1, copy_X=True, fit_intercept=True, max_iter=None,\n",
       "   normalize=False, random_state=None, solver='auto', tol=0.001)"
      ]
     },
     "execution_count": 15,
     "metadata": {},
     "output_type": "execute_result"
    }
   ],
   "source": [
    "ridge_model.fit(X_train,y_train)"
   ]
  },
  {
   "cell_type": "code",
   "execution_count": 16,
   "metadata": {},
   "outputs": [
    {
     "data": {
      "text/plain": [
       "0.12658320875065002"
      ]
     },
     "execution_count": 16,
     "metadata": {},
     "output_type": "execute_result"
    }
   ],
   "source": [
    "benchmark(ridge_model)"
   ]
  },
  {
   "cell_type": "markdown",
   "metadata": {},
   "source": [
    "### 带有RobustScaler的回归"
   ]
  },
  {
   "cell_type": "code",
   "execution_count": 17,
   "metadata": {},
   "outputs": [],
   "source": [
    "ridge_model_pipe=make_pipeline(RobustScaler(),Ridge(alpha=0.001))"
   ]
  },
  {
   "cell_type": "code",
   "execution_count": 18,
   "metadata": {},
   "outputs": [
    {
     "data": {
      "text/plain": [
       "Pipeline(memory=None,\n",
       "     steps=[('robustscaler', RobustScaler(copy=True, quantile_range=(25.0, 75.0), with_centering=True,\n",
       "       with_scaling=True)), ('ridge', Ridge(alpha=0.001, copy_X=True, fit_intercept=True, max_iter=None,\n",
       "   normalize=False, random_state=None, solver='auto', tol=0.001))])"
      ]
     },
     "execution_count": 18,
     "metadata": {},
     "output_type": "execute_result"
    }
   ],
   "source": [
    "ridge_model_pipe.fit(X_train,y_train)"
   ]
  },
  {
   "cell_type": "code",
   "execution_count": 19,
   "metadata": {},
   "outputs": [
    {
     "data": {
      "text/plain": [
       "0.12628716775371895"
      ]
     },
     "execution_count": 19,
     "metadata": {},
     "output_type": "execute_result"
    }
   ],
   "source": [
    "benchmark(ridge_model_pipe)"
   ]
  },
  {
   "cell_type": "markdown",
   "metadata": {},
   "source": [
    "### 带有CV的回归\n",
    "\n",
    "解决一个冲突：训练集和评测集\n",
    "\n",
    "k-fold交叉验证"
   ]
  },
  {
   "cell_type": "code",
   "execution_count": 20,
   "metadata": {},
   "outputs": [],
   "source": [
    "from sklearn.model_selection import KFold"
   ]
  },
  {
   "cell_type": "code",
   "execution_count": 21,
   "metadata": {},
   "outputs": [],
   "source": [
    "kfolds=KFold(n_splits=10,shuffle=True,random_state=123)"
   ]
  },
  {
   "cell_type": "code",
   "execution_count": 22,
   "metadata": {},
   "outputs": [],
   "source": [
    "from sklearn.linear_model import RidgeCV"
   ]
  },
  {
   "cell_type": "code",
   "execution_count": 23,
   "metadata": {},
   "outputs": [],
   "source": [
    "r_alphas=[0.01,0.1,1,3,5,7,10,100]"
   ]
  },
  {
   "cell_type": "code",
   "execution_count": 24,
   "metadata": {},
   "outputs": [],
   "source": [
    "ridge_model_cv=make_pipeline(RobustScaler(),RidgeCV(alphas=r_alphas,cv=kfolds))"
   ]
  },
  {
   "cell_type": "code",
   "execution_count": 25,
   "metadata": {},
   "outputs": [
    {
     "name": "stderr",
     "output_type": "stream",
     "text": [
      "/Users/deepglint/miniconda2/envs/python3/lib/python3.6/site-packages/sklearn/model_selection/_search.py:841: DeprecationWarning: The default of the `iid` parameter will change from True to False in version 0.22 and will be removed in 0.24. This will change numeric results when test-set sizes are unequal.\n",
      "  DeprecationWarning)\n"
     ]
    },
    {
     "data": {
      "text/plain": [
       "Pipeline(memory=None,\n",
       "     steps=[('robustscaler', RobustScaler(copy=True, quantile_range=(25.0, 75.0), with_centering=True,\n",
       "       with_scaling=True)), ('ridgecv', RidgeCV(alphas=array([1.e-02, 1.e-01, 1.e+00, 3.e+00, 5.e+00, 7.e+00, 1.e+01, 1.e+02]),\n",
       "    cv=KFold(n_splits=10, random_state=123, shuffle=True),\n",
       "    fit_intercept=True, gcv_mode=None, normalize=False, scoring=None,\n",
       "    store_cv_values=False))])"
      ]
     },
     "execution_count": 25,
     "metadata": {},
     "output_type": "execute_result"
    }
   ],
   "source": [
    "ridge_model_cv.fit(X_train,y_train)"
   ]
  },
  {
   "cell_type": "code",
   "execution_count": 26,
   "metadata": {},
   "outputs": [
    {
     "data": {
      "text/plain": [
       "0.12385966794851823"
      ]
     },
     "execution_count": 26,
     "metadata": {},
     "output_type": "execute_result"
    }
   ],
   "source": [
    "benchmark(ridge_model_cv)"
   ]
  },
  {
   "cell_type": "code",
   "execution_count": 27,
   "metadata": {},
   "outputs": [],
   "source": [
    "def benchmark1(model,testset,label):\n",
    "    pred=model.predict(testset)\n",
    "    if pred[pred<0].shape[0]>0:\n",
    "        print('Neg Value')\n",
    "    rmse=np.sqrt(mean_squared_error(label,pred))\n",
    "    lrmse=np.sqrt(mean_squared_error(np.log(label),np.log(pred)))\n",
    "\n",
    "    print('RMSE:',rmse)\n",
    "    print('LRMSE:',lrmse)\n",
    "    return lrmse"
   ]
  },
  {
   "cell_type": "code",
   "execution_count": 28,
   "metadata": {},
   "outputs": [
    {
     "name": "stdout",
     "output_type": "stream",
     "text": [
      "RMSE: 26907.89401651116\n",
      "LRMSE: 0.12385966794851823\n"
     ]
    },
    {
     "data": {
      "text/plain": [
       "0.12385966794851823"
      ]
     },
     "execution_count": 28,
     "metadata": {},
     "output_type": "execute_result"
    }
   ],
   "source": [
    "benchmark1(ridge_model_cv,X_test,y_test)"
   ]
  },
  {
   "cell_type": "code",
   "execution_count": 29,
   "metadata": {},
   "outputs": [],
   "source": [
    "r_alphas=[.0001, .0003, .0005, .0007, .0009, \n",
    "          .01, 0.05, 0.1, 0.3, 1, 3, 5, 10, 15, 20, 30, 50, 60, 70, 80]"
   ]
  },
  {
   "cell_type": "code",
   "execution_count": 30,
   "metadata": {},
   "outputs": [],
   "source": [
    "def ridge_train_test(alpha):\n",
    "    m=make_pipeline(RobustScaler(),RidgeCV(alphas=[alpha],cv=kfolds))\n",
    "    m.fit(X_train,y_train)\n",
    "    return benchmark1(m,X_test,y_test)"
   ]
  },
  {
   "cell_type": "code",
   "execution_count": 31,
   "metadata": {},
   "outputs": [],
   "source": [
    "import warnings \n",
    "warnings.filterwarnings('ignore')"
   ]
  },
  {
   "cell_type": "code",
   "execution_count": 32,
   "metadata": {},
   "outputs": [
    {
     "name": "stdout",
     "output_type": "stream",
     "text": [
      "RMSE: 24973.969248975565\n",
      "LRMSE: 0.12627904574479823\n",
      "RMSE: 24974.080818339156\n",
      "LRMSE: 0.12628091580069659\n",
      "RMSE: 24974.192243015987\n",
      "LRMSE: 0.12628274791872882\n",
      "RMSE: 24974.303534368606\n",
      "LRMSE: 0.1262845429472097\n",
      "RMSE: 24974.414703840674\n",
      "LRMSE: 0.12628630171437566\n",
      "RMSE: 24979.528134378193\n",
      "LRMSE: 0.12633870541444303\n",
      "RMSE: 25012.204406895555\n",
      "LRMSE: 0.12641709913943716\n",
      "RMSE: 25072.955925339633\n",
      "LRMSE: 0.12658566764241627\n",
      "RMSE: 25328.501950347658\n",
      "LRMSE: 0.12762387547257203\n",
      "RMSE: 25776.23152819279\n",
      "LRMSE: 0.1299338626680368\n",
      "RMSE: 26017.00830435279\n",
      "LRMSE: 0.13133359554876897\n",
      "RMSE: 26002.20207052294\n",
      "LRMSE: 0.13104277583538676\n",
      "RMSE: 25890.56856743901\n",
      "LRMSE: 0.12971142906645244\n",
      "RMSE: 25829.487235208784\n",
      "LRMSE: 0.1286114851819151\n",
      "RMSE: 25816.15857835699\n",
      "LRMSE: 0.12775697253955298\n",
      "RMSE: 25873.843585167833\n",
      "LRMSE: 0.12652048146318876\n",
      "RMSE: 26130.63901498296\n",
      "LRMSE: 0.12506392340075095\n",
      "RMSE: 26283.503890921835\n",
      "LRMSE: 0.12462399114535531\n",
      "RMSE: 26440.64590142592\n",
      "LRMSE: 0.12430803900379388\n",
      "RMSE: 26598.292894871778\n",
      "LRMSE: 0.1240877083105837\n"
     ]
    }
   ],
   "source": [
    "scores=[]\n",
    "for k in r_alphas:\n",
    "    scores.append(ridge_train_test(k))"
   ]
  },
  {
   "cell_type": "code",
   "execution_count": 33,
   "metadata": {},
   "outputs": [],
   "source": [
    "import matplotlib.pyplot as plt"
   ]
  },
  {
   "cell_type": "code",
   "execution_count": 34,
   "metadata": {},
   "outputs": [
    {
     "data": {
      "text/plain": [
       "[<matplotlib.lines.Line2D at 0x1a2635b1d0>]"
      ]
     },
     "execution_count": 34,
     "metadata": {},
     "output_type": "execute_result"
    },
    {
     "data": {
      "image/png": "[encoded data removed]",
      "text/plain": [
       "<Figure size 432x288 with 1 Axes>"
      ]
     },
     "metadata": {
      "needs_background": "light"
     },
     "output_type": "display_data"
    }
   ],
   "source": [
    "plt.plot(r_alphas,scores)"
   ]
  },
  {
   "cell_type": "markdown",
   "metadata": {},
   "source": [
    "### RidgeCV自动筛选参数"
   ]
  },
  {
   "cell_type": "code",
   "execution_count": 35,
   "metadata": {},
   "outputs": [],
   "source": [
    "r_alphas2=np.logspace(-10,2.8,150)"
   ]
  },
  {
   "cell_type": "code",
   "execution_count": null,
   "metadata": {},
   "outputs": [
    {
     "name": "stdout",
     "output_type": "stream",
     "text": [
      "RMSE: 24973.852287063975\n",
      "LRMSE: 0.12627739055448864\n",
      "RMSE: 24973.86484733172\n",
      "LRMSE: 0.12627734970854296\n",
      "RMSE: 24973.919457848533\n",
      "LRMSE: 0.1262773089721718\n",
      "RMSE: 24973.886860738843\n",
      "LRMSE: 0.1262775162365863\n",
      "RMSE: 24973.86548459176\n",
      "LRMSE: 0.12627757563283298\n",
      "RMSE: 24973.866965701694\n",
      "LRMSE: 0.12627763993475374\n",
      "RMSE: 24973.920255626148\n",
      "LRMSE: 0.12627787333102453\n",
      "RMSE: 24973.8822221939\n",
      "LRMSE: 0.12627781619183312\n",
      "RMSE: 24973.909196251152\n",
      "LRMSE: 0.12627790939961944\n",
      "RMSE: 24973.89435021205\n",
      "LRMSE: 0.1262779096894281\n",
      "RMSE: 24973.905324221552\n",
      "LRMSE: 0.12627797232867416\n",
      "RMSE: 24973.914245545366\n",
      "LRMSE: 0.12627799837218343\n",
      "RMSE: 24973.9067444382\n",
      "LRMSE: 0.12627799837949163\n",
      "RMSE: 24973.899924356465\n",
      "LRMSE: 0.12627799450363278\n",
      "RMSE: 24973.910867324626\n",
      "LRMSE: 0.1262780316900959\n",
      "RMSE: 24973.91517201013\n",
      "LRMSE: 0.12627805796944286\n",
      "RMSE: 24973.909602540374\n",
      "LRMSE: 0.12627805182940302\n",
      "RMSE: 24973.912145592974\n",
      "LRMSE: 0.12627806144139872\n",
      "RMSE: 24973.90821997247\n",
      "LRMSE: 0.12627806242572887\n",
      "RMSE: 24973.912723794543\n",
      "LRMSE: 0.12627806843854367\n",
      "RMSE: 24973.910396570496\n",
      "LRMSE: 0.12627807588392712\n",
      "RMSE: 24973.91230017081\n",
      "LRMSE: 0.12627808130977564\n",
      "RMSE: 24973.91253385354\n",
      "LRMSE: 0.12627808392193765\n",
      "RMSE: 24973.912981940284\n",
      "LRMSE: 0.12627808425984494\n",
      "RMSE: 24973.911529264482\n",
      "LRMSE: 0.1262780839076495\n",
      "RMSE: 24973.913285704963\n",
      "LRMSE: 0.12627809051282596\n",
      "RMSE: 24973.912552332524\n",
      "LRMSE: 0.1262780898607222\n",
      "RMSE: 24973.91329191614\n",
      "LRMSE: 0.1262780922341703\n",
      "RMSE: 24973.913278040756\n",
      "LRMSE: 0.12627809260112868\n",
      "RMSE: 24973.913508798723\n",
      "LRMSE: 0.12627809394644718\n",
      "RMSE: 24973.91337668248\n",
      "LRMSE: 0.12627809372067703\n",
      "RMSE: 24973.913327006492\n",
      "LRMSE: 0.12627809457166939\n",
      "RMSE: 24973.91333963073\n",
      "LRMSE: 0.126278095016125\n",
      "RMSE: 24973.913346934103\n",
      "LRMSE: 0.12627809522184083\n",
      "RMSE: 24973.91331949923\n",
      "LRMSE: 0.12627809553012811\n",
      "RMSE: 24973.913391080798\n",
      "LRMSE: 0.12627809612134658\n",
      "RMSE: 24973.91338197165\n",
      "LRMSE: 0.12627809648213864\n",
      "RMSE: 24973.913378256042\n",
      "LRMSE: 0.12627809686225158\n",
      "RMSE: 24973.913434084603\n",
      "LRMSE: 0.12627809737581502\n",
      "RMSE: 24973.913497050406\n",
      "LRMSE: 0.12627809789469793\n",
      "RMSE: 24973.913557000476\n",
      "LRMSE: 0.12627809845904278\n",
      "RMSE: 24973.913583608024\n",
      "LRMSE: 0.12627809913946203\n",
      "RMSE: 24973.91365208327\n",
      "LRMSE: 0.12627809994171058\n",
      "RMSE: 24973.913669714802\n",
      "LRMSE: 0.1262781007724641\n",
      "RMSE: 24973.913746954368\n",
      "LRMSE: 0.1262781018232348\n",
      "RMSE: 24973.91380558627\n",
      "LRMSE: 0.12627810306313503\n",
      "RMSE: 24973.91389419684\n",
      "LRMSE: 0.1262781046576475\n",
      "RMSE: 24973.91401988269\n",
      "LRMSE: 0.12627810654829996\n",
      "RMSE: 24973.914144033515\n",
      "LRMSE: 0.12627810883185947\n",
      "RMSE: 24973.914317572588\n",
      "LRMSE: 0.12627811163117494\n",
      "RMSE: 24973.914510692317\n",
      "LRMSE: 0.12627811501601013\n",
      "RMSE: 24973.914747661467\n",
      "LRMSE: 0.1262781191337302\n",
      "RMSE: 24973.915043186757\n",
      "LRMSE: 0.1262781241703808\n",
      "RMSE: 24973.91540105917\n",
      "LRMSE: 0.12627813028991927\n",
      "RMSE: 24973.91583857641\n",
      "LRMSE: 0.12627813774952185\n",
      "RMSE: 24973.916369652205\n",
      "LRMSE: 0.12627814683718794\n",
      "RMSE: 24973.91701731264\n",
      "LRMSE: 0.12627815791103905\n",
      "RMSE: 24973.917807183883\n",
      "LRMSE: 0.12627817140143388\n",
      "RMSE: 24973.91877204422\n",
      "LRMSE: 0.12627818784856285\n",
      "RMSE: 24973.919945561862\n",
      "LRMSE: 0.12627820788046615\n",
      "RMSE: 24973.921376650203\n",
      "LRMSE: 0.12627823229178506\n",
      "RMSE: 24973.923119095158\n",
      "LRMSE: 0.12627826202665804\n",
      "RMSE: 24973.92524394427\n",
      "LRMSE: 0.12627829825633902\n",
      "RMSE: 24973.927832824294\n",
      "LRMSE: 0.12627834239076138\n",
      "RMSE: 24973.93098768402\n",
      "LRMSE: 0.12627839614811273\n",
      "RMSE: 24973.934832988132\n",
      "LRMSE: 0.1262784616222196\n",
      "RMSE: 24973.93951884922\n",
      "LRMSE: 0.12627854135422786\n",
      "RMSE: 24973.945229113102\n",
      "LRMSE: 0.1262786384319202\n",
      "RMSE: 24973.952187823477\n",
      "LRMSE: 0.1262787566059922\n",
      "RMSE: 24973.96066775963\n",
      "LRMSE: 0.12627890042273565\n",
      "RMSE: 24973.97100117826\n",
      "LRMSE: 0.12627907539274016\n",
      "RMSE: 24973.983593095898\n",
      "LRMSE: 0.12627928818403925\n",
      "RMSE: 24973.99893653249\n",
      "LRMSE: 0.12627954685293052\n",
      "RMSE: 24974.017631939143\n",
      "LRMSE: 0.12627986111409373\n",
      "RMSE: 24974.040410938833\n",
      "LRMSE: 0.1262802426546236\n",
      "RMSE: 24974.06816382221\n",
      "LRMSE: 0.12628070549267012\n",
      "RMSE: 24974.101974812376\n",
      "LRMSE: 0.1262812663826599\n",
      "RMSE: 24974.143163472483\n",
      "LRMSE: 0.1262819452594567\n",
      "RMSE: 24974.193335614156\n",
      "LRMSE: 0.12628276570987473\n",
      "RMSE: 24974.254445271228\n",
      "LRMSE: 0.12628375545005052\n",
      "RMSE: 24974.32886968488\n",
      "LRMSE: 0.12628494676371926\n",
      "RMSE: 24974.419500793563\n",
      "LRMSE: 0.1262863768414376\n",
      "RMSE: 24974.529857212372\n",
      "LRMSE: 0.12628808792237015\n",
      "RMSE: 24974.664221364397\n",
      "LRMSE: 0.126290127100284\n",
      "RMSE: 24974.827809582905\n",
      "LRMSE: 0.1262925456059804\n",
      "RMSE: 24975.026985363074\n",
      "LRMSE: 0.12629539732114806\n",
      "RMSE: 24975.269531581922\n",
      "LRMSE: 0.12629873623078458\n",
      "RMSE: 24975.565007030455\n",
      "LRMSE: 0.12630261250306737\n",
      "RMSE: 24975.9252272498\n",
      "LRMSE: 0.12630706693475274\n",
      "RMSE: 24976.364935778747\n",
      "LRMSE: 0.12631212368543443\n",
      "RMSE: 24976.90277238727\n",
      "LRMSE: 0.12631778163050567\n",
      "RMSE: 24977.562708553938\n",
      "LRMSE: 0.12632400540210467\n",
      "RMSE: 24978.376212566356\n",
      "LRMSE: 0.12633071835806356\n",
      "RMSE: 24979.385529968313\n",
      "LRMSE: 0.12633780135435688\n",
      "RMSE: 24980.64860991105\n",
      "LRMSE: 0.12634510317104652\n",
      "RMSE: 24982.246341511756\n",
      "LRMSE: 0.12635247035810362\n",
      "RMSE: 24984.29282011758\n",
      "LRMSE: 0.1263598053820075\n",
      "RMSE: 24986.94923548828\n",
      "LRMSE: 0.12636716120608815\n",
      "RMSE: 24990.44152907123\n",
      "LRMSE: 0.12637487667418376\n",
      "RMSE: 24995.08108126987\n",
      "LRMSE: 0.126383749457416\n",
      "RMSE: 25001.28630630432\n",
      "LRMSE: 0.1263952318739412\n",
      "RMSE: 25009.601239977077\n",
      "LRMSE: 0.12641162087930022\n",
      "RMSE: 25020.705305625306\n",
      "LRMSE: 0.12643619971961112\n",
      "RMSE: 25035.406993328626\n",
      "LRMSE: 0.1264732793603773\n",
      "RMSE: 25054.613981018567\n",
      "LRMSE: 0.12652808813377983\n",
      "RMSE: 25079.274149649103\n",
      "LRMSE: 0.12660647338889694\n",
      "RMSE: 25110.28663924239\n",
      "LRMSE: 0.12671441237991088\n",
      "RMSE: 25148.38942403253\n",
      "LRMSE: 0.12685737859872726\n",
      "RMSE: 25194.0384024662\n",
      "LRMSE: 0.12703966250202858\n",
      "RMSE: 25247.299799973214\n",
      "LRMSE: 0.12726378077704134\n",
      "RMSE: 25307.77917481875\n",
      "LRMSE: 0.1275301012784935\n",
      "RMSE: 25374.603983494744\n",
      "LRMSE: 0.12783674727428943\n",
      "RMSE: 25446.4631255885\n",
      "LRMSE: 0.1281797364197814\n",
      "RMSE: 25521.69078500181\n",
      "LRMSE: 0.12855320087785696\n",
      "RMSE: 25598.37031657328\n",
      "LRMSE: 0.12894948779336832\n",
      "RMSE: 25674.43282178654\n",
      "LRMSE: 0.12935900287322857\n",
      "RMSE: 25747.735512778156\n",
      "LRMSE: 0.12976983351445268\n",
      "RMSE: 25816.122017873524\n",
      "LRMSE: 0.1301674038176147\n",
      "RMSE: 25877.48163161555\n",
      "LRMSE: 0.13053455435950123\n",
      "RMSE: 25929.829150389018\n",
      "LRMSE: 0.1308523938110529\n",
      "RMSE: 25971.418684245164\n",
      "LRMSE: 0.13110200714384415\n",
      "RMSE: 26000.888057764747\n",
      "LRMSE: 0.13126672275318746\n",
      "RMSE: 26017.41406500827\n",
      "LRMSE: 0.1313343312193109\n",
      "RMSE: 26020.851191216825\n",
      "LRMSE: 0.13129859140948422\n",
      "RMSE: 26011.83032120292\n",
      "LRMSE: 0.13115960125438172\n",
      "RMSE: 25991.805825995474\n",
      "LRMSE: 0.13092302661902802\n",
      "RMSE: 25963.052140357544\n",
      "LRMSE: 0.13059855963932288\n",
      "RMSE: 25928.61842600402\n",
      "LRMSE: 0.13019815183232056\n",
      "RMSE: 25892.250259718236\n",
      "LRMSE: 0.12973450327585043\n",
      "RMSE: 25858.283048144975\n",
      "LRMSE: 0.12922007359610593\n",
      "RMSE: 25831.507851857605\n",
      "LRMSE: 0.1286666461029872\n",
      "RMSE: 25817.010412559892\n",
      "LRMSE: 0.128085328115305\n",
      "RMSE: 25819.989133581075\n",
      "LRMSE: 0.12748684647342132\n",
      "RMSE: 25845.56484578192\n",
      "LRMSE: 0.12688206601376373\n",
      "RMSE: 25898.600227923158\n",
      "LRMSE: 0.12628274268392078\n",
      "RMSE: 25983.546991372652\n",
      "LRMSE: 0.1257025386139876\n",
      "RMSE: 26104.334658396412\n",
      "LRMSE: 0.12515823072216556\n",
      "RMSE: 26264.308404608782\n",
      "LRMSE: 0.12467086661583436\n",
      "RMSE: 26466.217354231678\n",
      "LRMSE: 0.12426646052684746\n",
      "RMSE: 26712.249871400294\n",
      "LRMSE: 0.12397579975958836\n",
      "RMSE: 27004.10905542404\n",
      "LRMSE: 0.12383312135574616\n",
      "RMSE: 27343.120717857375\n",
      "LRMSE: 0.12387378805622369\n",
      "RMSE: 27730.368917639058\n",
      "LRMSE: 0.12413151050551924\n",
      "RMSE: 28166.8605901464\n",
      "LRMSE: 0.12463596074094033\n",
      "RMSE: 28653.72811722066\n",
      "LRMSE: 0.1254116763059954\n",
      "RMSE: 29192.482255233037\n",
      "LRMSE: 0.12647893378720834\n",
      "RMSE: 29785.323973899234\n",
      "LRMSE: 0.12785683654118615\n",
      "RMSE: 30435.511632883365\n",
      "LRMSE: 0.12956833124611256\n",
      "RMSE: 31147.76108848614\n",
      "LRMSE: 0.13164636447097686\n",
      "RMSE: 31928.63249292348\n",
      "LRMSE: 0.13413999653603406\n"
     ]
    }
   ],
   "source": [
    "scores=[]\n",
    "for k in r_alphas2:\n",
    "    scores.append(ridge_train_test(k))"
   ]
  },
  {
   "cell_type": "code",
   "execution_count": null,
   "metadata": {},
   "outputs": [
    {
     "data": {
      "text/plain": [
       "[<matplotlib.lines.Line2D at 0x1a262904e0>]"
      ]
     },
     "execution_count": 37,
     "metadata": {},
     "output_type": "execute_result"
    },
    {
     "data": {
      "image/png": "[encoded data removed]",
      "text/plain": [
       "<Figure size 432x288 with 1 Axes>"
      ]
     },
     "metadata": {
      "needs_background": "light"
     },
     "output_type": "display_data"
    }
   ],
   "source": [
    "plt.plot(r_alphas2,scores)"
   ]
  },
  {
   "cell_type": "code",
   "execution_count": null,
   "metadata": {},
   "outputs": [],
   "source": [
    "ridge_model2=make_pipeline(RobustScaler(),RidgeCV(alphas=r_alphas2,cv=kfolds)).fit(X_train,y_train)"
   ]
  },
  {
   "cell_type": "code",
   "execution_count": null,
   "metadata": {},
   "outputs": [
    {
     "name": "stdout",
     "output_type": "stream",
     "text": [
      "RMSE: 25983.546991372652\n",
      "LRMSE: 0.1257025386139876\n"
     ]
    },
    {
     "data": {
      "text/plain": [
       "0.1257025386139876"
      ]
     },
     "execution_count": 39,
     "metadata": {},
     "output_type": "execute_result"
    }
   ],
   "source": [
    "benchmark1(ridge_model2,X_test,y_test)"
   ]
  },
  {
   "cell_type": "code",
   "execution_count": null,
   "metadata": {},
   "outputs": [
    {
     "data": {
      "text/plain": [
       "39.56538865832277"
      ]
     },
     "execution_count": 40,
     "metadata": {},
     "output_type": "execute_result"
    }
   ],
   "source": [
    "ridge_model2.steps[1][1].alpha_"
   ]
  },
  {
   "cell_type": "markdown",
   "metadata": {},
   "source": [
    "### Lasso Regression"
   ]
  },
  {
   "cell_type": "code",
   "execution_count": null,
   "metadata": {},
   "outputs": [],
   "source": [
    "from sklearn.linear_model import LassoCV"
   ]
  },
  {
   "cell_type": "code",
   "execution_count": null,
   "metadata": {},
   "outputs": [],
   "source": [
    "l_alphas=np.logspace(-10,2.8,150)"
   ]
  },
  {
   "cell_type": "code",
   "execution_count": null,
   "metadata": {},
   "outputs": [],
   "source": [
    "def lasso_train_test(alpha):\n",
    "    lasso_model=make_pipeline(RobustScaler(),LassoCV(alphas=[alpha],cv=kfolds))\n",
    "    lasso_model.fit(X_train,y_train)\n",
    "    lrmse=benchmark1(lasso_model,X_test,y_test)\n",
    "    return lrmse"
   ]
  },
  {
   "cell_type": "code",
   "execution_count": null,
   "metadata": {},
   "outputs": [
    {
     "name": "stdout",
     "output_type": "stream",
     "text": [
      "Alpha: 1e-10\n",
      "RMSE: 24910.98707880672\n",
      "LRMSE: 0.12669462621586894\n",
      "Alpha: 1.2187258987140784e-10\n",
      "RMSE: 24910.987079200237\n",
      "LRMSE: 0.12669462621633484\n",
      "Alpha: 1.4852928161964384e-10\n",
      "RMSE: 24910.987079679824\n",
      "LRMSE: 0.1266946262169026\n",
      "Alpha: 1.810164822272569e-10\n",
      "RMSE: 24910.987080264214\n",
      "LRMSE: 0.12669462621759428\n",
      "Alpha: 2.206094749844747e-10\n",
      "RMSE: 24910.98708097653\n",
      "LRMSE: 0.1266946262184376\n",
      "Alpha: 2.6886248066529384e-10\n",
      "RMSE: 24910.98708184463\n",
      "LRMSE: 0.12669462621946534\n",
      "Alpha: 3.2766966837930683e-10\n",
      "RMSE: 24910.987082902586\n",
      "LRMSE: 0.1266946262207176\n",
      "Alpha: 3.993395110769148e-10\n",
      "RMSE: 24910.987084191936\n",
      "LRMSE: 0.1266946262222438\n",
      "Alpha: 4.866854045292537e-10\n",
      "RMSE: 24910.987085763292\n",
      "LRMSE: 0.12669462622410405\n",
      "Alpha: 5.931361070259395e-10\n",
      "RMSE: 24910.98708767835\n",
      "LRMSE: 0.12669462622637073\n",
      "Alpha: 7.22870335094958e-10\n",
      "RMSE: 24910.987090012302\n",
      "LRMSE: 0.12669462622913374\n",
      "Alpha: 8.809807987923498e-10\n",
      "RMSE: 24910.987092856714\n",
      "LRMSE: 0.12669462623250075\n",
      "Alpha: 1.0736741157580489e-09\n",
      "RMSE: 24910.98709632332\n",
      "LRMSE: 0.12669462623660424\n",
      "Alpha: 1.3085144516532719e-09\n",
      "RMSE: 24910.987100548147\n",
      "LRMSE: 0.1266946262416056\n",
      "Alpha: 1.5947204510714934e-09\n",
      "RMSE: 24910.987105697033\n",
      "LRMSE: 0.12669462624770075\n",
      "Alpha: 1.9435271149298264e-09\n",
      "RMSE: 24910.987111972143\n",
      "LRMSE: 0.12669462625512873\n",
      "Alpha: 2.3686268298180327e-09\n",
      "RMSE: 24910.987119619745\n",
      "LRMSE: 0.12669462626418185\n",
      "Alpha: 2.886706861888261e-09\n",
      "RMSE: 24910.9871289401\n",
      "LRMSE: 0.12669462627521483\n",
      "Alpha: 3.5181044145788683e-09\n",
      "RMSE: 24910.98714029905\n",
      "LRMSE: 0.12669462628866104\n",
      "Alpha: 4.287604964427598e-09\n",
      "RMSE: 24910.98715414257\n",
      "LRMSE: 0.1266946263050486\n",
      "Alpha: 5.225415213602969e-09\n",
      "RMSE: 24910.987171013894\n",
      "LRMSE: 0.1266946263250197\n",
      "Alpha: 6.368348852352471e-09\n",
      "RMSE: 24910.98719157547\n",
      "LRMSE: 0.12669462634935968\n",
      "Alpha: 7.761271678408036e-09\n",
      "RMSE: 24910.987216634432\n",
      "LRMSE: 0.12669462637902365\n",
      "Alpha: 9.458862801431959e-09\n",
      "RMSE: 24910.987247174417\n",
      "LRMSE: 0.12669462641517568\n",
      "Alpha: 1.152776106848833e-08\n",
      "RMSE: 24910.98728439427\n",
      "LRMSE: 0.1266946264592347\n",
      "Alpha: 1.4049180968354606e-08\n",
      "RMSE: 24910.987329755077\n",
      "LRMSE: 0.12669462651293104\n",
      "Alpha: 1.7122100701854695e-08\n",
      "RMSE: 24910.987385037493\n",
      "LRMSE: 0.12669462657837197\n",
      "Alpha: 2.0867147565740775e-08\n",
      "RMSE: 24910.987452411573\n",
      "LRMSE: 0.12669462665812642\n",
      "Alpha: 2.5431333170656722e-08\n",
      "RMSE: 24910.987534522134\n",
      "LRMSE: 0.1266946267553256\n",
      "Alpha: 3.099382437390577e-08\n",
      "RMSE: 24910.987634592377\n",
      "LRMSE: 0.12669462687378447\n",
      "Alpha: 3.777297646467455e-08\n",
      "RMSE: 24910.98775655062\n",
      "LRMSE: 0.12669462701815348\n",
      "Alpha: 4.603490468901622e-08\n",
      "RMSE: 24910.98790518429\n",
      "LRMSE: 0.12669462719409977\n",
      "Alpha: 5.610393058933824e-08\n",
      "RMSE: 24910.98808632799\n",
      "LRMSE: 0.12669462740853005\n",
      "Alpha: 6.837531322888353e-08\n",
      "RMSE: 24910.98830709254\n",
      "LRMSE: 0.12669462766986195\n",
      "Alpha: 8.33307650647277e-08\n",
      "RMSE: 24910.98857614406\n",
      "LRMSE: 0.12669462798835385\n",
      "Alpha: 1.0155736154404181e-07\n",
      "RMSE: 24910.98890404412\n",
      "LRMSE: 0.12669462837650824\n",
      "Alpha: 1.2377058671879294e-07\n",
      "RMSE: 24910.98930366454\n",
      "LRMSE: 0.12669462884956217\n",
      "Alpha: 1.5084241953322972e-07\n",
      "RMSE: 24910.989790692387\n",
      "LRMSE: 0.1266946294260856\n",
      "Alpha: 1.838355633098411e-07\n",
      "RMSE: 24910.990384245997\n",
      "LRMSE: 0.12669463012871013\n",
      "Alpha: 2.2404516211039497e-07\n",
      "RMSE: 24910.991107625374\n",
      "LRMSE: 0.1266946309850171\n",
      "Alpha: 2.730496415455325e-07\n",
      "RMSE: 24910.99198922695\n",
      "LRMSE: 0.12669463202862136\n",
      "Alpha: 3.327726697861361e-07\n",
      "RMSE: 24910.993063658127\n",
      "LRMSE: 0.12669463330049\n",
      "Alpha: 4.0555867105259205e-07\n",
      "RMSE: 24910.994373096044\n",
      "LRMSE: 0.12669463485055113\n",
      "Alpha: 4.942648558598566e-07\n",
      "RMSE: 24910.995968943083\n",
      "LRMSE: 0.12669463673965276\n",
      "Alpha: 6.023733806605881e-07\n",
      "RMSE: 24910.997913844916\n",
      "LRMSE: 0.12669463904195388\n",
      "Alpha: 7.341280397070131e-07\n",
      "RMSE: 24911.00028414981\n",
      "LRMSE: 0.12669464184783324\n",
      "Alpha: 8.947008549631324e-07\n",
      "RMSE: 24911.003172905544\n",
      "LRMSE: 0.12669464526743948\n",
      "Alpha: 1.090395103545198e-06\n",
      "RMSE: 24911.006693512714\n",
      "LRMSE: 0.12669464943501457\n",
      "Alpha: 1.3288927525215521e-06\n",
      "RMSE: 24911.010984176217\n",
      "LRMSE: 0.1266946545141632\n",
      "Alpha: 1.619556014111454e-06\n",
      "RMSE: 24911.016213331553\n",
      "LRMSE: 0.12669466070428026\n",
      "Alpha: 1.9737948588157726e-06\n",
      "RMSE: 24911.02258625722\n",
      "LRMSE: 0.12669466824837589\n",
      "Alpha: 2.4055149131874754e-06\n",
      "RMSE: 24911.03035313446\n",
      "LRMSE: 0.12669467744261914\n",
      "Alpha: 2.9316633244445248e-06\n",
      "RMSE: 24911.03981887006\n",
      "LRMSE: 0.12669468864796904\n",
      "Alpha: 3.5728940198107564e-06\n",
      "RMSE: 24911.051355068237\n",
      "LRMSE: 0.12669470230434848\n",
      "Alpha: 4.354378475304012e-06\n"
     ]
    }
   ],
   "source": [
    "scores=[]\n",
    "for k in l_alphas:\n",
    "    print(\"Alpha:\",k)\n",
    "    scores.append(lasso_train_test(k))"
   ]
  },
  {
   "cell_type": "code",
   "execution_count": null,
   "metadata": {},
   "outputs": [],
   "source": [
    "plt.plot(l_alphas,scores)"
   ]
  },
  {
   "cell_type": "code",
   "execution_count": null,
   "metadata": {},
   "outputs": [],
   "source": [
    "lasso_train_test(50)"
   ]
  },
  {
   "cell_type": "code",
   "execution_count": null,
   "metadata": {},
   "outputs": [],
   "source": [
    "lasso_model2=make_pipeline(RobustScaler(),LassoCV(\n",
    "    alphas=l_alphas,cv=kfolds\n",
    ")).fit(X_train,y_train)"
   ]
  },
  {
   "cell_type": "code",
   "execution_count": null,
   "metadata": {},
   "outputs": [],
   "source": [
    "lasso_model2.steps[1][1].alpha_"
   ]
  },
  {
   "cell_type": "markdown",
   "metadata": {},
   "source": [
    "### ElasticNet"
   ]
  },
  {
   "cell_type": "code",
   "execution_count": null,
   "metadata": {},
   "outputs": [],
   "source": [
    "from sklearn.linear_model import ElasticNetCV"
   ]
  },
  {
   "cell_type": "code",
   "execution_count": null,
   "metadata": {},
   "outputs": [],
   "source": [
    "e_l1ratio=[0.1,0.2,0.3,0.4,0.5,0.6,0.7,0.8,0.85,0.9,0.95,1]"
   ]
  },
  {
   "cell_type": "code",
   "execution_count": null,
   "metadata": {},
   "outputs": [],
   "source": [
    "e_alphas=l_alphas"
   ]
  },
  {
   "cell_type": "code",
   "execution_count": null,
   "metadata": {},
   "outputs": [],
   "source": [
    "def elastic_train_test(alpha,l1ratio):\n",
    "    e_model=make_pipeline(RobustScaler(),ElasticNetCV(alphas=[alpha],l1_ratio=[l1ratio]))\n",
    "    e_model.fit(X_train,y_train)\n",
    "    lrmse=benchmark1(e_model,X_test,y_test)\n",
    "    return lrmse"
   ]
  },
  {
   "cell_type": "code",
   "execution_count": null,
   "metadata": {},
   "outputs": [],
   "source": [
    "elastic_train_test(50,0.5)"
   ]
  },
  {
   "cell_type": "code",
   "execution_count": null,
   "metadata": {},
   "outputs": [],
   "source": [
    "elastic_model2=make_pipeline(RobustScaler(),ElasticNetCV(alphas=e_alphas,l1_ratio=e_l1ratio)).fit(X_train,y_train)"
   ]
  },
  {
   "cell_type": "code",
   "execution_count": null,
   "metadata": {},
   "outputs": [],
   "source": [
    "benchmark1(elastic_model2,X_test,y_test)"
   ]
  },
  {
   "cell_type": "code",
   "execution_count": null,
   "metadata": {},
   "outputs": [],
   "source": [
    "elastic_model2.steps[1][1].alpha_"
   ]
  },
  {
   "cell_type": "code",
   "execution_count": null,
   "metadata": {},
   "outputs": [],
   "source": [
    "elastic_model2.steps[1][1].l1_ratio_"
   ]
  },
  {
   "cell_type": "markdown",
   "metadata": {},
   "source": [
    "### 树类模型"
   ]
  },
  {
   "cell_type": "markdown",
   "metadata": {},
   "source": [
    "#### CART"
   ]
  },
  {
   "cell_type": "code",
   "execution_count": 59,
   "metadata": {},
   "outputs": [],
   "source": [
    "from sklearn.tree import DecisionTreeRegressor"
   ]
  },
  {
   "cell_type": "code",
   "execution_count": 116,
   "metadata": {},
   "outputs": [],
   "source": [
    "cart=make_pipeline(RobustScaler(),DecisionTreeRegressor(random_state=123,min_samples_split=2,max_depth=20,min_samples_leaf=10,max_features=0.8)).fit(X_train,y_train)"
   ]
  },
  {
   "cell_type": "code",
   "execution_count": 117,
   "metadata": {},
   "outputs": [
    {
     "data": {
      "text/plain": [
       "0.16762199629615906"
      ]
     },
     "execution_count": 117,
     "metadata": {},
     "output_type": "execute_result"
    }
   ],
   "source": [
    "benchmark(cart)"
   ]
  },
  {
   "cell_type": "code",
   "execution_count": 118,
   "metadata": {},
   "outputs": [
    {
     "data": {
      "text/plain": [
       "DecisionTreeRegressor(criterion='mse', max_depth=20, max_features=0.8,\n",
       "           max_leaf_nodes=None, min_impurity_decrease=0.0,\n",
       "           min_impurity_split=None, min_samples_leaf=10,\n",
       "           min_samples_split=2, min_weight_fraction_leaf=0.0,\n",
       "           presort=False, random_state=123, splitter='best')"
      ]
     },
     "execution_count": 118,
     "metadata": {},
     "output_type": "execute_result"
    }
   ],
   "source": [
    "cart.steps[1][1]"
   ]
  },
  {
   "cell_type": "markdown",
   "metadata": {},
   "source": [
    "#### XGBoost"
   ]
  },
  {
   "cell_type": "code",
   "execution_count": 120,
   "metadata": {},
   "outputs": [],
   "source": [
    "import xgboost as xgb"
   ]
  },
  {
   "cell_type": "code",
   "execution_count": 187,
   "metadata": {},
   "outputs": [],
   "source": [
    "xgboost=make_pipeline(RobustScaler(),xgb.XGBRegressor(objective='reg:linear',subsample=0.8,n_estimators=500,learning_rate=0.1,random_state=123))"
   ]
  },
  {
   "cell_type": "code",
   "execution_count": 188,
   "metadata": {},
   "outputs": [
    {
     "data": {
      "text/plain": [
       "Pipeline(memory=None,\n",
       "     steps=[('robustscaler', RobustScaler(copy=True, quantile_range=(25.0, 75.0), with_centering=True,\n",
       "       with_scaling=True)), ('xgbregressor', XGBRegressor(base_score=0.5, booster='gbtree', colsample_bylevel=1,\n",
       "       colsample_bytree=1, gamma=0, learning_rate=0.1, max_delta_step=0,\n",
       "       max_depth...      reg_alpha=0, reg_lambda=1, scale_pos_weight=1, seed=None,\n",
       "       silent=True, subsample=0.8))])"
      ]
     },
     "execution_count": 188,
     "metadata": {},
     "output_type": "execute_result"
    }
   ],
   "source": [
    "xgboost.fit(X_train,y_train)"
   ]
  },
  {
   "cell_type": "code",
   "execution_count": 189,
   "metadata": {},
   "outputs": [
    {
     "data": {
      "text/plain": [
       "0.10415780036544954"
      ]
     },
     "execution_count": 189,
     "metadata": {},
     "output_type": "execute_result"
    }
   ],
   "source": [
    "benchmark(xgboost)"
   ]
  },
  {
   "cell_type": "markdown",
   "metadata": {},
   "source": [
    "#### eta [default=0.3, alias: learning_rate]\n",
    "\n",
    "ETA类似于学习率，将每一步迭代出的特征的残差项进行缩放\n",
    "\n",
    "range: [0,1]\n",
    "\n",
    "#### gamma [default=0, alias: min_split_loss]\n",
    "\n",
    "range: [0,∞]\n",
    "\n",
    "代表最小的Loss阈值，只有高于这个阈值的时候才可以进行树的分裂\n",
    "\n",
    "#### max_depth [default=6]\n",
    "\n",
    "最大的树的深度，用来防止过拟合\n",
    "\n",
    "range: [0,∞]\n",
    "\n",
    "#### min_child_weight [default=1]\n",
    "\n",
    "最小的叶子节点权重，通过每一个节点内的数据的二阶导求和后，得到的一个数字跟阈值进行比较，如果小于该值，则放弃分裂；对于回归问题，Loss函数是叶子节点的方差，二阶导是1，所以节点中的个数小于某个值的时候就放弃分裂。分类可以根据loss的不通，等价于一个二阶导的阈值（纯度函数）\n",
    "\n",
    "range: [0,∞]\n",
    "\n",
    "\n",
    "#### subsample [default=1]\n",
    "\n",
    "样本采样率\n",
    "range: (0,1]\n",
    "\n",
    "\n",
    "#### colsample_bytree,  colsample_bynode [default=1] - \n",
    "\n",
    "列采样的一群系数\n",
    "\n",
    "colsample_bytree 发生在树构建的时候进行采样\n",
    "\n",
    "colsample_bynode 节点分裂的时候进行新的采样\n",
    "\n",
    "#### lambda [default=1, alias: reg_lambda]\n",
    "\n",
    "对于权重的L2正则化\n",
    "\n",
    "#### alpha [default=0, alias: reg_alpha]\n",
    "\n",
    "权重的L1正则化\n",
    "\n",
    "#### n_estimators\n",
    "\n",
    "相当于步数\n"
   ]
  },
  {
   "cell_type": "markdown",
   "metadata": {},
   "source": [
    "作业：\n",
    "\n",
    "1.请调整xgboost的超参得到最优训练结果\n",
    "\n",
    "2.请使用Adaboost进行数据集的回归，并调整超参得到最优结果"
   ]
  },
  {
   "cell_type": "markdown",
   "metadata": {},
   "source": [
    "### Stacking算法\n",
    "\n",
    "#### 1.下层算法集"
   ]
  },
  {
   "cell_type": "code",
   "execution_count": 190,
   "metadata": {},
   "outputs": [],
   "source": [
    "from mlxtend.regressor import StackingCVRegressor"
   ]
  },
  {
   "cell_type": "code",
   "execution_count": 191,
   "metadata": {},
   "outputs": [],
   "source": [
    "alphas_alt=np.logspace(-10,2,8,150)"
   ]
  },
  {
   "cell_type": "code",
   "execution_count": 192,
   "metadata": {},
   "outputs": [],
   "source": [
    "ridge=make_pipeline(RobustScaler(),RidgeCV(alphas=alphas_alt,cv=5))"
   ]
  },
  {
   "cell_type": "code",
   "execution_count": 193,
   "metadata": {},
   "outputs": [],
   "source": [
    "lasso=make_pipeline(RobustScaler(),LassoCV(alphas=alphas_alt,cv=5))"
   ]
  },
  {
   "cell_type": "code",
   "execution_count": 194,
   "metadata": {},
   "outputs": [],
   "source": [
    "elasticnet=make_pipeline(RobustScaler(),ElasticNetCV(alphas=e_alphas,cv=5,l1_ratio=e_l1ratio))"
   ]
  },
  {
   "cell_type": "code",
   "execution_count": 195,
   "metadata": {},
   "outputs": [],
   "source": [
    "xgboost=make_pipeline(RobustScaler(),xgb.XGBRegressor(objective='reg:linear',colsample_bytree=0.7,learning_rate=0.1,max_depth=3,n_estimators=560,subsample=0.7,reg_alpha=0.00006,gamma=0,nthread=6,scale_pos_weight=1,seed=27))"
   ]
  },
  {
   "cell_type": "markdown",
   "metadata": {},
   "source": [
    "#### 2.上层算法"
   ]
  },
  {
   "cell_type": "code",
   "execution_count": 196,
   "metadata": {},
   "outputs": [],
   "source": [
    "stack=StackingCVRegressor(regressors=(ridge,lasso,elasticnet,xgboost),meta_regressor=xgboost,use_features_in_secondary=False)"
   ]
  },
  {
   "cell_type": "code",
   "execution_count": 197,
   "metadata": {},
   "outputs": [],
   "source": [
    "stackX=np.array(X_train)"
   ]
  },
  {
   "cell_type": "code",
   "execution_count": 198,
   "metadata": {},
   "outputs": [],
   "source": [
    "stacky=np.array(y_train)"
   ]
  },
  {
   "cell_type": "code",
   "execution_count": 199,
   "metadata": {},
   "outputs": [
    {
     "data": {
      "text/plain": [
       "StackingCVRegressor(cv=5,\n",
       "          meta_regressor=Pipeline(memory=None,\n",
       "     steps=[('robustscaler', RobustScaler(copy=True, quantile_range=(25.0, 75.0), with_centering=True,\n",
       "       with_scaling=True)), ('xgbregressor', XGBRegressor(base_score=0.5, booster='gbtree', colsample_bylevel=1,\n",
       "       colsample_bytree=0.7, gamma=0, learning_rate=0.1, max_delta_step=0,\n",
       "       max_dep...    reg_alpha=6e-05, reg_lambda=1, scale_pos_weight=1, seed=27,\n",
       "       silent=True, subsample=0.7))]),\n",
       "          refit=True,\n",
       "          regressors=(Pipeline(memory=None,\n",
       "     steps=[('robustscaler', RobustScaler(copy=True, quantile_range=(25.0, 75.0), with_centering=True,\n",
       "       with_scaling=True)), ('ridgecv', RidgeCV(alphas=array([1.00000e-10, 5.17947e-09, 2.68270e-07, 1.38950e-05, 7.19686e-04,\n",
       "       3.72759e-02, 1.93070e+00, 1.0...  reg_alpha=6e-05, reg_lambda=1, scale_pos_weight=1, seed=27,\n",
       "       silent=True, subsample=0.7))])),\n",
       "          shuffle=True, store_train_meta_features=False,\n",
       "          use_features_in_secondary=False)"
      ]
     },
     "execution_count": 199,
     "metadata": {},
     "output_type": "execute_result"
    }
   ],
   "source": [
    "stack.fit(stackX,stacky)"
   ]
  },
  {
   "cell_type": "code",
   "execution_count": null,
   "metadata": {},
   "outputs": [],
   "source": []
  }
 ],
 "metadata": {
  "kernelspec": {
   "display_name": "Python 3",
   "language": "python",
   "name": "python3"
  },
  "language_info": {
   "codemirror_mode": {
    "name": "ipython",
    "version": 3
   },
   "file_extension": ".py",
   "mimetype": "text/x-python",
   "name": "python",
   "nbconvert_exporter": "python",
   "pygments_lexer": "ipython3",
   "version": "3.6.7"
  }
 },
 "nbformat": 4,
 "nbformat_minor": 2
}
