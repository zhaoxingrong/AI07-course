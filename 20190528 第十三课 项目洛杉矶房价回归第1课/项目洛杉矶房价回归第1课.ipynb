{
 "cells": [
  {
   "attachments": {
    "image.png": {
     "image/png": "[encoded data removed]"
    }
   },
   "cell_type": "markdown",
   "metadata": {},
   "source": [
    "![image.png](attachment:image.png)"
   ]
  },
  {
   "cell_type": "markdown",
   "metadata": {},
   "source": [
    "# 机器学习项目实践\n",
    "\n",
    "By Allen.Huang"
   ]
  },
  {
   "cell_type": "markdown",
   "metadata": {},
   "source": [
    "## 一、项目说明"
   ]
  },
  {
   "cell_type": "markdown",
   "metadata": {},
   "source": [
    "### 1.结构化数据回归-洛杉矶房价预测"
   ]
  },
  {
   "cell_type": "markdown",
   "metadata": {},
   "source": [
    "结构化回归问题"
   ]
  },
  {
   "cell_type": "markdown",
   "metadata": {},
   "source": [
    "1.企业市值预估--企业报表\n",
    "\n",
    "2.人脸识别--图片\n",
    "\n",
    "3.金融反欺诈--金融信息表\n",
    "\n",
    "4.声音识别--声音片段\n",
    "\n",
    "1/3\n",
    "\n",
    "结构化数据:CSV/Table/Excel\n",
    "\n",
    "应用：\n",
    "\n",
    "企业市值预测、市场大盘预测、销售数据预测\n",
    "\n",
    "涉及到什么样的算法：\n",
    "\n",
    "线性回归类：\n",
    "    \n",
    "   朴素线性回归\n",
    "   \n",
    "   Lasso\n",
    "   \n",
    "   Ridge\n",
    "   \n",
    "   ElasticNet\n",
    "   \n",
    "树模型类：\n",
    "\n",
    "   决策树类：ID3、C4.5、CART\n",
    "   \n",
    "   集成型决策树类：RF、GBDT、XGBoost、AdaBoost、Stacking\n",
    "   \n",
    "神经网络类：\n",
    "\n",
    "   全连接神经网络，FC\n",
    "   \n",
    "基础理论：\n",
    "\n",
    "   信息论\n",
    "   \n",
    "   神经网络的数学基础和优化问题\n",
    "   \n",
    "数据挖掘和特征工程:\n",
    "\n",
    "   EDA\n",
    "   \n"
   ]
  },
  {
   "cell_type": "markdown",
   "metadata": {},
   "source": [
    "### 2.结构化分类问题"
   ]
  },
  {
   "cell_type": "markdown",
   "metadata": {},
   "source": [
    "Titanic数据集*\n",
    "\n",
    "IRIS数据集\n",
    "\n",
    "Tips数据集\n",
    "\n",
    "如何评测你的分类模型\n",
    "\n",
    "特征工程\n",
    "\n",
    "线性分类\n",
    "\n",
    "支持向量机类\n",
    "\n",
    "基于统计：朴素贝叶斯\n",
    "\n",
    "基于几何分类：KNN\n",
    "\n",
    "集成学习：\n",
    "\n",
    "   Stacking\n",
    "   \n",
    "   Bagging\n",
    "   \n",
    "   Boosting\n",
    "   \n",
    "   Voting\n",
    "   "
   ]
  },
  {
   "cell_type": "markdown",
   "metadata": {},
   "source": [
    "### 3.计算机视觉--图像分类"
   ]
  },
  {
   "cell_type": "markdown",
   "metadata": {},
   "source": [
    "数据集：\n",
    "\n",
    "MNIST/CIFAR-10(CIFAR-100)/Cats VS Dogs\n",
    "\n",
    "CNN神经网络\n",
    "\n",
    "AlexNet\n",
    "\n",
    "VGG\n",
    "\n",
    "GoogLeNet\n",
    "\n",
    "LeNet\n",
    "\n",
    "ResNet\n",
    "\n",
    "ResNext\n",
    "\n",
    "MobileNet\n",
    "\n",
    "SqueezeNet\n",
    "\n",
    "ShuffleNet\n",
    "\n",
    "图像分类有哪些应用？\n",
    "\n",
    "人脸识别\n",
    "\n",
    "视频分类/鉴黄\n",
    "\n",
    "农作物分类\n",
    "\n",
    "肺结核分类\n",
    "\n",
    "户型图\n",
    "\n",
    "垃圾\n"
   ]
  },
  {
   "cell_type": "markdown",
   "metadata": {},
   "source": [
    "### 4.计算机视觉-图像检测"
   ]
  },
  {
   "cell_type": "markdown",
   "metadata": {},
   "source": [
    "对于多个物体的识别，和多个物体所在位置的定位\n",
    "\n",
    "Pascal VOC|COCO\n",
    "\n",
    "Sliding-Window\n",
    "\n",
    "RCNN\n",
    "\n",
    "Fast-RCNN\n",
    "\n",
    "Faster-RCNN\n",
    "\n",
    "SSD\n",
    "\n",
    "Yolo\n",
    "\n",
    "RetinaNet\n",
    "\n",
    "RefineDet\n",
    "\n",
    "检测的应用：\n",
    "\n",
    "所有分类问题的前置问题-->检测\n",
    "\n",
    "人脸识别--->人脸检测\n",
    "\n",
    "行人识别--->行人检测\n",
    "\n",
    "病灶识别--->病灶检测\n",
    "\n"
   ]
  },
  {
   "cell_type": "markdown",
   "metadata": {},
   "source": [
    "## 二、人工智能PipeLine"
   ]
  },
  {
   "cell_type": "markdown",
   "metadata": {},
   "source": [
    "人工智能--基于数学架构的算法方法论\n",
    "\n",
    "人工智能--没有“人工”就没有“智能”\n",
    "\n",
    "数据是人工智能的来源\n",
    "\n",
    "数据的源头是“数据采集”，scrapy,phatom.js,ffmpeg....\n",
    "\n",
    "数据需要ETL(Extract-Transform-Load)，将数据变成结构化的数据并进行存放 Hadoop,Spark/pysparck,Airflow|Oozie\n",
    "    \n",
    "   起点是原始数据，处理是并行化处理，终点是数据仓库:Postgres+DFS/Hive+DFS DFS=Ceph/HDFS/Gluster/NFS\n",
    "   \n",
    "面向我们需要解决的算法问题，合理的整理优质数据：\n",
    "\n",
    "   数据EDA/数据挖掘\n",
    "   \n",
    "   数据标注('人工标注系统'--人工的体现)\n",
    "   \n",
    "模型的训练与评测(Caffe/MxNet/DarkNet/TF/PyTorch)\n",
    "\n",
    "   评测是决定你模型好坏的关键\n",
    " \n",
    "模型工程--模型压缩、平台转换、框架转换--Minic/Distilling/NNie/TensorRT/NCNN/Int8定点化\n",
    "\n",
    "\n",
    "应用集成\n",
    "\n",
    "数据回流(数据采集)\n",
    "\n",
    "   \n",
    "   "
   ]
  },
  {
   "cell_type": "code",
   "execution_count": null,
   "metadata": {},
   "outputs": [],
   "source": []
  }
 ],
 "metadata": {
  "kernelspec": {
   "display_name": "Python 3",
   "language": "python",
   "name": "python3"
  },
  "language_info": {
   "codemirror_mode": {
    "name": "ipython",
    "version": 3
   },
   "file_extension": ".py",
   "mimetype": "text/x-python",
   "name": "python",
   "nbconvert_exporter": "python",
   "pygments_lexer": "ipython3",
   "version": "3.7.2"
  },
  "toc": {
   "base_numbering": 1,
   "nav_menu": {},
   "number_sections": true,
   "sideBar": true,
   "skip_h1_title": false,
   "title_cell": "Table of Contents",
   "title_sidebar": "Contents",
   "toc_cell": false,
   "toc_position": {},
   "toc_section_display": true,
   "toc_window_display": false
  },
  "varInspector": {
   "cols": {
    "lenName": 16,
    "lenType": 16,
    "lenVar": 40
   },
   "kernels_config": {
    "python": {
     "delete_cmd_postfix": "",
     "delete_cmd_prefix": "del ",
     "library": "var_list.py",
     "varRefreshCmd": "print(var_dic_list())"
    },
    "r": {
     "delete_cmd_postfix": ") ",
     "delete_cmd_prefix": "rm(",
     "library": "var_list.r",
     "varRefreshCmd": "cat(var_dic_list()) "
    }
   },
   "types_to_exclude": [
    "module",
    "function",
    "builtin_function_or_method",
    "instance",
    "_Feature"
   ],
   "window_display": false
  }
 },
 "nbformat": 4,
 "nbformat_minor": 2
}
