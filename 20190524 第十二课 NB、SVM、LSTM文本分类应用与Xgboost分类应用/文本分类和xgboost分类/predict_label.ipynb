{
 "cells": [
  {
   "cell_type": "code",
   "execution_count": 1,
   "metadata": {},
   "outputs": [],
   "source": [
    "from sklearn.externals import joblib\n",
    "import jieba\n",
    "import pandas as pd\n",
    "import numpy as np\n",
    "import sys"
   ]
  },
  {
   "cell_type": "code",
   "execution_count": 2,
   "metadata": {},
   "outputs": [],
   "source": [
    "def is_chinese(uchar):\n",
    "#   判断一个unicode是否是汉字\n",
    "    if uchar >= u'\\u4e00' and uchar <= u'\\u9fa5':\n",
    "        return True\n",
    "    else:\n",
    "        return False    "
   ]
  },
  {
   "cell_type": "code",
   "execution_count": 3,
   "metadata": {},
   "outputs": [],
   "source": [
    "def jieba_getdata(str_str):\n",
    "#   结巴切词\n",
    "    stopwords=list(set(pd.read_table('chinese-stopword.txt',sep='\\t',names=['stop'])['stop']))\n",
    "    cut_list=jieba.lcut(str_str)\n",
    "    cut_list=[iword for iword in cut_list if iword not in stopwords]\n",
    "    cut_list=[iword for iword in cut_list if is_chinese(iword) is True]\n",
    "    cut_str=' '.join(cut_list)\n",
    "    return cut_str"
   ]
  },
  {
   "cell_type": "code",
   "execution_count": 7,
   "metadata": {},
   "outputs": [],
   "source": [
    "def predict_label_prob(mnb_count,count_vec,str_str):\n",
    "#   预测该评论为正面评论还是负面评论\n",
    "    str_list=[jieba_getdata(str_str)]\n",
    "    label_pred=mnb_count.predict(count_vec.transform(str_list))[0]\n",
    "    label_prob=mnb_count.predict_proba(count_vec.transform(str_list))[0,1]\n",
    "    if label_pred==-1:\n",
    "        print('%s \\n 为负面评论! 负面评论概率为 %s \\n\\n\\n' %(str_str,str(1-label_prob)))\n",
    "    else:\n",
    "        print('%s \\n 为正面评论! 正面评论概率为 %s \\n\\n\\n' %(str_str,str(label_prob)))\n",
    "    return label_pred"
   ]
  },
  {
   "cell_type": "code",
   "execution_count": 6,
   "metadata": {},
   "outputs": [
    {
     "name": "stderr",
     "output_type": "stream",
     "text": [
      "/Library/Frameworks/Python.framework/Versions/3.4/lib/python3.4/site-packages/sklearn/base.py:251: UserWarning: Trying to unpickle estimator MultinomialNB from version 0.20.1 when using version 0.20.2. This might lead to breaking code or invalid results. Use at your own risk.\n",
      "  UserWarning)\n",
      "/Library/Frameworks/Python.framework/Versions/3.4/lib/python3.4/site-packages/sklearn/base.py:251: UserWarning: Trying to unpickle estimator CountVectorizer from version 0.20.1 when using version 0.20.2. This might lead to breaking code or invalid results. Use at your own risk.\n",
      "  UserWarning)\n"
     ]
    }
   ],
   "source": [
    "model_all = joblib.load('BAYES_COUNT_CLASSIFICATION.pkl')\n",
    "\n",
    "mnb_count,count_vec=model_all[0],model_all[1]\n"
   ]
  },
  {
   "cell_type": "code",
   "execution_count": 8,
   "metadata": {},
   "outputs": [
    {
     "name": "stderr",
     "output_type": "stream",
     "text": [
      "Building prefix dict from the default dictionary ...\n",
      "Loading model from cache /var/folders/_t/wschnxms2rlgr_txwwx6p1g40000gn/T/jieba.cache\n",
      "Loading model cost 1.761 seconds.\n",
      "Prefix dict has been built succesfully.\n"
     ]
    },
    {
     "name": "stdout",
     "output_type": "stream",
     "text": [
      "真的是一家最最不适合入住的酒店！先是服务态度的恶劣程度就不适宜入住! \n",
      " 为负面评论! 负面评论概率为 0.942689551128382 \n",
      "\n",
      "\n",
      "\n",
      "环境不错，就在小胡同内，安静整洁，暖气好足 \n",
      " 为正面评论! 正面评论概率为 0.9987441295261101 \n",
      "\n",
      "\n",
      "\n"
     ]
    }
   ],
   "source": [
    "new_comment=['真的是一家最最不适合入住的酒店！先是服务态度的恶劣程度就不适宜入住!',\n",
    "             \n",
    "            '环境不错，就在小胡同内，安静整洁，暖气好足']\n",
    "\n",
    "for i in new_comment:\n",
    "\n",
    "    predict_label_prob(mnb_count,count_vec,i)"
   ]
  },
  {
   "cell_type": "code",
   "execution_count": null,
   "metadata": {
    "collapsed": true
   },
   "outputs": [],
   "source": []
  }
 ],
 "metadata": {
  "anaconda-cloud": {},
  "kernelspec": {
   "display_name": "Python 3",
   "language": "python",
   "name": "python3"
  },
  "language_info": {
   "codemirror_mode": {
    "name": "ipython",
    "version": 3
   },
   "file_extension": ".py",
   "mimetype": "text/x-python",
   "name": "python",
   "nbconvert_exporter": "python",
   "pygments_lexer": "ipython3",
   "version": "3.4.3"
  }
 },
 "nbformat": 4,
 "nbformat_minor": 2
}
