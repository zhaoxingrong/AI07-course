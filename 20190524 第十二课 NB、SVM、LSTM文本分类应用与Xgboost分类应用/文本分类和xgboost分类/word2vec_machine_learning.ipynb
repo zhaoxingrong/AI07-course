{
 "cells": [
  {
   "cell_type": "code",
   "execution_count": 3,
   "metadata": {},
   "outputs": [],
   "source": [
    "import jieba\n",
    "import pandas as pd\n",
    "import numpy as np\n",
    "import gensim.models.word2vec as w2v # w2v"
   ]
  },
  {
   "cell_type": "code",
   "execution_count": 4,
   "metadata": {},
   "outputs": [],
   "source": [
    "def train_w2v(file_name,sg=1, size=50, window=3, min_count=1):\n",
    "    # w2v model train\n",
    "    with open(file_name,'r') as rfile, open('w2v_input.txt','w') as wfile:\n",
    "        for iline in rfile.readlines():\n",
    "            newline=' '.join(jieba.lcut(iline))\n",
    "            wfile.write(newline)\n",
    "    sentences = w2v.LineSentence('w2v_input.txt')  \n",
    "    model = w2v.Word2Vec(sentences, sg=sg, size=size, window=window, min_count=min_count)   \n",
    "    model.save('w2v_input.model')\n",
    "    return 'w2v_input.model'"
   ]
  },
  {
   "cell_type": "code",
   "execution_count": 5,
   "metadata": {},
   "outputs": [],
   "source": [
    "def get_sen_vec(word_str):\n",
    "    cut_word=jieba.lcut(word_str)\n",
    "    vec=[]\n",
    "    for icut in cut_word:\n",
    "        try:\n",
    "            icut=str(icut)\n",
    "            vec_value=w2v_model.wv[icut]\n",
    "            vec.append(vec_value)\n",
    "        except KeyError:\n",
    "            continue\n",
    "    sen_vec=list(np.array(vec).mean(axis=0))\n",
    "    return sen_vec"
   ]
  },
  {
   "cell_type": "code",
   "execution_count": 6,
   "metadata": {},
   "outputs": [
    {
     "name": "stderr",
     "output_type": "stream",
     "text": [
      "Building prefix dict from the default dictionary ...\n",
      "Loading model from cache /var/folders/_t/wschnxms2rlgr_txwwx6p1g40000gn/T/jieba.cache\n",
      "Loading model cost 1.655 seconds.\n",
      "Prefix dict has been built succesfully.\n"
     ]
    }
   ],
   "source": [
    "model_name=train_w2v('pos_neg.txt',sg=1, size=128, window=5, min_count=3)"
   ]
  },
  {
   "cell_type": "code",
   "execution_count": 7,
   "metadata": {},
   "outputs": [],
   "source": [
    "w2v_model=w2v.Word2Vec.load(model_name)"
   ]
  },
  {
   "cell_type": "code",
   "execution_count": 8,
   "metadata": {},
   "outputs": [],
   "source": [
    "neg_df=pd.read_table('neg.txt',sep='\\t',names=['label','chat'])\n",
    "\n",
    "pos_df=pd.read_table('pos.txt',sep='\\t',names=['label','chat'])"
   ]
  },
  {
   "cell_type": "code",
   "execution_count": 9,
   "metadata": {},
   "outputs": [
    {
     "data": {
      "text/html": [
       "<div>\n",
       "<style scoped>\n",
       "    .dataframe tbody tr th:only-of-type {\n",
       "        vertical-align: middle;\n",
       "    }\n",
       "\n",
       "    .dataframe tbody tr th {\n",
       "        vertical-align: top;\n",
       "    }\n",
       "\n",
       "    .dataframe thead th {\n",
       "        text-align: right;\n",
       "    }\n",
       "</style>\n",
       "<table border=\"1\" class=\"dataframe\">\n",
       "  <thead>\n",
       "    <tr style=\"text-align: right;\">\n",
       "      <th></th>\n",
       "      <th>label</th>\n",
       "      <th>chat</th>\n",
       "    </tr>\n",
       "  </thead>\n",
       "  <tbody>\n",
       "    <tr>\n",
       "      <th>0</th>\n",
       "      <td>-1</td>\n",
       "      <td>标准间太差房间还不如3星的而且设施非常陈旧.建议酒店把老的标准间从新改善.</td>\n",
       "    </tr>\n",
       "    <tr>\n",
       "      <th>1</th>\n",
       "      <td>-1</td>\n",
       "      <td>服务态度极其差，前台接待好象没有受过培训，连基本的礼貌都不懂，竟然同时接待几个客人；大堂副理...</td>\n",
       "    </tr>\n",
       "    <tr>\n",
       "      <th>2</th>\n",
       "      <td>-1</td>\n",
       "      <td>地理位置还不错，到哪里都比较方便，但是服务不象是豪生集团管理的，比较差。下午睡了一觉并洗了一...</td>\n",
       "    </tr>\n",
       "    <tr>\n",
       "      <th>3</th>\n",
       "      <td>-1</td>\n",
       "      <td>1。我住的是靠马路的标准间。房间内设施简陋，并且的房间玻璃窗户外还有一层幕墙玻璃，而且不能打...</td>\n",
       "    </tr>\n",
       "    <tr>\n",
       "      <th>4</th>\n",
       "      <td>-1</td>\n",
       "      <td>我这次是第5次住在长春的雁鸣湖大酒店。昨晚夜里停电。深夜我睡着了。我的钱包被内贼进入我的房间...</td>\n",
       "    </tr>\n",
       "  </tbody>\n",
       "</table>\n",
       "</div>"
      ],
      "text/plain": [
       "   label                                               chat\n",
       "0     -1              标准间太差房间还不如3星的而且设施非常陈旧.建议酒店把老的标准间从新改善.\n",
       "1     -1  服务态度极其差，前台接待好象没有受过培训，连基本的礼貌都不懂，竟然同时接待几个客人；大堂副理...\n",
       "2     -1  地理位置还不错，到哪里都比较方便，但是服务不象是豪生集团管理的，比较差。下午睡了一觉并洗了一...\n",
       "3     -1  1。我住的是靠马路的标准间。房间内设施简陋，并且的房间玻璃窗户外还有一层幕墙玻璃，而且不能打...\n",
       "4     -1  我这次是第5次住在长春的雁鸣湖大酒店。昨晚夜里停电。深夜我睡着了。我的钱包被内贼进入我的房间..."
      ]
     },
     "execution_count": 9,
     "metadata": {},
     "output_type": "execute_result"
    }
   ],
   "source": [
    "neg_df.head()"
   ]
  },
  {
   "cell_type": "code",
   "execution_count": 10,
   "metadata": {},
   "outputs": [
    {
     "name": "stderr",
     "output_type": "stream",
     "text": [
      "/Library/Frameworks/Python.framework/Versions/3.7/lib/python3.7/site-packages/ipykernel_launcher.py:11: RuntimeWarning: Mean of empty slice.\n",
      "  # This is added back by InteractiveShellApp.init_path()\n",
      "/Library/Frameworks/Python.framework/Versions/3.7/lib/python3.7/site-packages/numpy/core/_methods.py:80: RuntimeWarning: invalid value encountered in double_scalars\n",
      "  ret = ret.dtype.type(ret / rcount)\n"
     ]
    }
   ],
   "source": [
    "pos_neg=pd.concat([pos_df,neg_df])\n",
    "X_data=[]\n",
    "y_data=[]\n",
    "for i in range(len(pos_neg)):\n",
    "    word_str,label_str=str(pos_neg.iloc[i,1]),pos_neg.iloc[i,0]\n",
    "    try:\n",
    "        vec_temp=get_sen_vec(word_str)\n",
    "        X_data.append(vec_temp)\n",
    "        y_data.append(label_str)\n",
    "    except TypeError:\n",
    "        continue\n",
    "X_data=np.array(X_data)\n",
    "y_data=np.array(y_data)"
   ]
  },
  {
   "cell_type": "code",
   "execution_count": 11,
   "metadata": {},
   "outputs": [
    {
     "data": {
      "text/plain": [
       "array([[-0.00216926,  0.00718501, -0.05159584, ..., -0.07792088,\n",
       "         0.05676524,  0.03527436],\n",
       "       [ 0.11242713, -0.05341166,  0.16533163, ..., -0.2799429 ,\n",
       "         0.1039229 ,  0.01086485],\n",
       "       [ 0.04119161,  0.02809229, -0.13087192, ..., -0.16087894,\n",
       "         0.02952467, -0.08811548],\n",
       "       ...,\n",
       "       [ 0.09031618,  0.01737249, -0.08731887, ..., -0.2401493 ,\n",
       "         0.07054237, -0.10275034],\n",
       "       [ 0.04528834,  0.00390716, -0.13365862, ..., -0.17820977,\n",
       "         0.02357476, -0.07125927],\n",
       "       [ 0.02493294,  0.09947018, -0.06499593, ..., -0.22167031,\n",
       "         0.05427988, -0.03129382]], dtype=float32)"
      ]
     },
     "execution_count": 11,
     "metadata": {},
     "output_type": "execute_result"
    }
   ],
   "source": [
    "X_data"
   ]
  },
  {
   "cell_type": "code",
   "execution_count": 12,
   "metadata": {},
   "outputs": [
    {
     "data": {
      "text/plain": [
       "(9898, 128)"
      ]
     },
     "execution_count": 12,
     "metadata": {},
     "output_type": "execute_result"
    }
   ],
   "source": [
    "X_data.shape"
   ]
  },
  {
   "cell_type": "code",
   "execution_count": 14,
   "metadata": {},
   "outputs": [
    {
     "data": {
      "text/plain": [
       "array([ 0.44544545,  0.0573683 , -0.17131369,  0.17317066, -0.07388772,\n",
       "       -0.13433044, -0.5268648 ,  0.04811944, -0.24809045, -0.3043786 ,\n",
       "        0.6002385 ,  0.32195455, -0.07886904,  0.30109066, -0.30128044,\n",
       "       -0.06328149, -0.31375083, -0.13370734, -0.20960386,  0.23330233,\n",
       "        0.35465643,  0.17116742,  0.31214198, -0.08706779, -0.8194901 ,\n",
       "        0.26427764,  0.48492682, -0.28309378,  0.18940225,  0.3841523 ,\n",
       "        0.00558613, -0.05045504,  0.16860434, -0.22939985,  0.13578737,\n",
       "       -0.344531  , -0.10507048, -0.46213502,  0.74426526, -0.12062167,\n",
       "       -0.29721388,  0.07465953,  0.0493541 ,  0.8072779 ,  0.5250855 ,\n",
       "        0.09176397,  0.24663629, -0.09131647, -0.258902  ,  0.41863698,\n",
       "       -0.40474024, -0.40237153, -0.22230151,  0.1337735 , -0.30844602,\n",
       "       -0.03408943, -0.45737293, -0.04156886,  0.14981233, -0.13558352,\n",
       "        0.58501965, -0.07929161, -0.10995559,  0.05897043,  0.02559059,\n",
       "        0.3130356 , -0.38379171,  0.5658754 ,  0.25185007,  0.71586466,\n",
       "        0.2862691 ,  0.41269314, -0.09677662, -0.34793767,  0.27997276,\n",
       "       -0.10684212, -0.80088323,  0.26907167, -0.2475875 , -0.23456742,\n",
       "       -0.24016318,  0.16818212,  0.17137171,  0.29420164, -0.00847625,\n",
       "        0.32737315, -0.04844397,  0.1346604 , -0.12656821, -0.23527975,\n",
       "       -0.22959085, -0.07609504,  0.34758556,  0.11833479,  0.07806686,\n",
       "        0.12003642, -0.21283905,  0.09979828, -0.10229237, -0.38940796,\n",
       "        0.28638104, -0.05567812,  0.04549686,  0.0946688 , -0.24789165,\n",
       "       -0.17758165,  0.98177737, -0.464443  , -0.7306957 ,  0.10942882,\n",
       "       -0.26693583,  0.09455124, -0.03100118,  0.1584568 , -0.5430238 ,\n",
       "       -0.27071506,  0.27404672, -0.10798533, -0.33608174, -0.11951122,\n",
       "        0.07952632, -0.02163458,  0.24210721, -0.2818674 ,  0.24568968,\n",
       "       -0.05753271, -0.37922043, -0.0364035 ], dtype=float32)"
      ]
     },
     "execution_count": 14,
     "metadata": {},
     "output_type": "execute_result"
    }
   ],
   "source": [
    "w2v_model.wv['差']"
   ]
  },
  {
   "cell_type": "code",
   "execution_count": 12,
   "metadata": {},
   "outputs": [
    {
     "data": {
      "text/plain": [
       "((0,), (0,))"
      ]
     },
     "execution_count": 12,
     "metadata": {},
     "output_type": "execute_result"
    }
   ],
   "source": [
    "X_data.shape,y_data.shape"
   ]
  },
  {
   "cell_type": "code",
   "execution_count": 15,
   "metadata": {},
   "outputs": [],
   "source": [
    "from sklearn import svm\n",
    "from sklearn.model_selection import train_test_split  \n",
    "from sklearn.metrics import roc_curve\n",
    "from sklearn.metrics import roc_auc_score\n",
    "import matplotlib.pyplot as plt"
   ]
  },
  {
   "cell_type": "code",
   "execution_count": 16,
   "metadata": {},
   "outputs": [],
   "source": [
    "X_train_w2v, X_test_w2v, y_train_w2v, y_test_w2v = train_test_split(X_data, y_data, test_size=0.25)  "
   ]
  },
  {
   "cell_type": "code",
   "execution_count": 17,
   "metadata": {},
   "outputs": [],
   "source": [
    "SVM_w2v = svm.SVC(kernel='linear',probability=True,C=0.1)"
   ]
  },
  {
   "cell_type": "code",
   "execution_count": 18,
   "metadata": {},
   "outputs": [
    {
     "data": {
      "text/plain": [
       "SVC(C=0.1, cache_size=200, class_weight=None, coef0=0.0,\n",
       "  decision_function_shape='ovr', degree=3, gamma='auto', kernel='linear',\n",
       "  max_iter=-1, probability=True, random_state=None, shrinking=True,\n",
       "  tol=0.001, verbose=False)"
      ]
     },
     "execution_count": 18,
     "metadata": {},
     "output_type": "execute_result"
    }
   ],
   "source": [
    "SVM_w2v.fit(X_train_w2v,y_train_w2v) # doc2vec"
   ]
  },
  {
   "cell_type": "code",
   "execution_count": 19,
   "metadata": {},
   "outputs": [],
   "source": [
    "y_pred_w2v_svm = SVM_w2v.predict_proba(X_test_w2v)[:,1]\n",
    "fpr_w2v_svm, tpr_w2v_svm, _ = roc_curve(y_test_w2v, y_pred_w2v_svm) #roc曲线\n",
    "y_tpred_w2v_svm = SVM_w2v.predict_proba(X_train_w2v)[:,1]\n",
    "fpr_w2v_tsvm, tpr_w2v_tsvm, _ = roc_curve(y_train_w2v, y_tpred_w2v_svm) #roc曲线"
   ]
  },
  {
   "cell_type": "code",
   "execution_count": 20,
   "metadata": {},
   "outputs": [
    {
     "data": {
      "image/png": "[encoded data removed]",
      "text/plain": [
       "<Figure size 432x288 with 1 Axes>"
      ]
     },
     "metadata": {
      "needs_background": "light"
     },
     "output_type": "display_data"
    },
    {
     "name": "stdout",
     "output_type": "stream",
     "text": [
      "AUC SVM w2v Score TEST: 0.897111\n",
      "AUC SVM w2v Score TRAIN: 0.902727\n"
     ]
    }
   ],
   "source": [
    "plt.figure(1)\n",
    "plt.plot([0, 1], [0, 1], 'k--')\n",
    "plt.plot(fpr_w2v_svm, tpr_w2v_svm, label='SVM w2v test')\n",
    "plt.plot(fpr_w2v_tsvm, tpr_w2v_tsvm, label='SVM w2v train')\n",
    "plt.xlabel('False positive rate')\n",
    "plt.ylabel('True positive rate')\n",
    "plt.title('ROC curve')\n",
    "plt.legend(loc='best')\n",
    "plt.show()\n",
    "print(\"AUC SVM w2v Score TEST: %f\" % roc_auc_score(y_test_w2v, y_pred_w2v_svm))\n",
    "print(\"AUC SVM w2v Score TRAIN: %f\" % roc_auc_score(y_train_w2v, y_tpred_w2v_svm))"
   ]
  },
  {
   "cell_type": "code",
   "execution_count": 22,
   "metadata": {},
   "outputs": [],
   "source": [
    "str_str='标准间太差房间还不如3星的而且设施非常陈旧.建议酒店把老的标准间从新改善'"
   ]
  },
  {
   "cell_type": "code",
   "execution_count": 23,
   "metadata": {},
   "outputs": [],
   "source": [
    "# 按照同样的句向量的处理方式构造特征\n",
    "X_data=[]\n",
    "for word_str in (jieba.lcut(str_str)):\n",
    "    try:\n",
    "        vec_temp=get_sen_vec(word_str)\n",
    "        X_data.append(vec_temp)\n",
    "    except TypeError:\n",
    "        continue\n",
    "X_data=np.array(X_data)"
   ]
  },
  {
   "cell_type": "code",
   "execution_count": 24,
   "metadata": {},
   "outputs": [
    {
     "data": {
      "text/plain": [
       "(128,)"
      ]
     },
     "execution_count": 24,
     "metadata": {},
     "output_type": "execute_result"
    }
   ],
   "source": [
    "X_data.mean(axis=0).shape"
   ]
  },
  {
   "cell_type": "code",
   "execution_count": 25,
   "metadata": {},
   "outputs": [
    {
     "data": {
      "text/plain": [
       "(7423, 128)"
      ]
     },
     "execution_count": 25,
     "metadata": {},
     "output_type": "execute_result"
    }
   ],
   "source": [
    "X_train_w2v.shape"
   ]
  },
  {
   "cell_type": "code",
   "execution_count": 26,
   "metadata": {},
   "outputs": [
    {
     "data": {
      "text/plain": [
       "-1"
      ]
     },
     "execution_count": 26,
     "metadata": {},
     "output_type": "execute_result"
    }
   ],
   "source": [
    "SVM_w2v.predict(X_data.mean(axis=0).reshape(1,-1))[0]"
   ]
  },
  {
   "cell_type": "code",
   "execution_count": null,
   "metadata": {},
   "outputs": [],
   "source": []
  }
 ],
 "metadata": {
  "anaconda-cloud": {},
  "kernelspec": {
   "display_name": "python37",
   "language": "python",
   "name": "python37"
  },
  "language_info": {
   "codemirror_mode": {
    "name": "ipython",
    "version": 3
   },
   "file_extension": ".py",
   "mimetype": "text/x-python",
   "name": "python",
   "nbconvert_exporter": "python",
   "pygments_lexer": "ipython3",
   "version": "3.7.1"
  }
 },
 "nbformat": 4,
 "nbformat_minor": 2
}
